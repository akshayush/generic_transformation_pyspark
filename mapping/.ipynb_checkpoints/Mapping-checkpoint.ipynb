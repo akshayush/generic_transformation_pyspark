{
 "cells": [
  {
   "cell_type": "code",
   "execution_count": 140,
   "metadata": {},
   "outputs": [],
   "source": [
    "import pandas as pd\n",
    "from pyspark.sql import SparkSession\n",
    "from pyspark.sql.functions import broadcast\n",
    "import sys\n",
    "import pyspark.sql.functions as f\n",
    "spark=SparkSession.builder.appName(\"Mapping\").getOrCreate()"
   ]
  },
  {
   "cell_type": "code",
   "execution_count": 170,
   "metadata": {},
   "outputs": [
    {
     "name": "stdout",
     "output_type": "stream",
     "text": [
      "The source table is F:\\spark\\spark-2.1.2-bin-hadoop2.7\\mapping\\source.txt \n",
      "The target table is F:\\spark\\spark-2.1.2-bin-hadoop2.7\\mapping\\target.txt\n"
     ]
    }
   ],
   "source": [
    "mapping_pd=pd.read_excel(\"F:\\spark\\spark-2.1.2-bin-hadoop2.7\\mapping\\mapping.xlsx\")\n",
    "source_table=mapping_pd['source_table'].unique()[0]\n",
    "source_columns_direct=mapping_pd[mapping_pd[\"mapping_type\"]==\"DIRECT\"][\"source_column\"].tolist()\n",
    "target_columns_direct=mapping_pd[mapping_pd[\"mapping_type\"]==\"DIRECT\"][\"target_column\"].tolist()\n",
    "direct_dic=dict((source,target) for source,target in zip(source_columns_direct,target_columns_direct))\n",
    "#target_columns=mapping[\"target_column\"]\n",
    "target_table=mapping_pd['target_table'].unique()[0]\n",
    "print(\"The source table is {} \\nThe target table is {}\".format(source_table,target_table))"
   ]
  },
  {
   "cell_type": "code",
   "execution_count": 171,
   "metadata": {},
   "outputs": [],
   "source": [
    "\n",
    "source_columns_direct\n",
    "target_columns_direct\n",
    "try:\n",
    "    assert(len(source_columns_direct)==len(target_columns_direct))\n",
    "except AssertionError as e:\n",
    "    print(\"Number of unique columns for source and target doesnt match\",e.message)\n",
    "    sys.exit(1)"
   ]
  },
  {
   "cell_type": "code",
   "execution_count": 172,
   "metadata": {},
   "outputs": [
    {
     "name": "stdout",
     "output_type": "stream",
     "text": [
      "+---+------+-----+-------+\n",
      "| id|  name|state|country|\n",
      "+---+------+-----+-------+\n",
      "|  1|Akshay|  MAH|    IND|\n",
      "|  2| Ayush|  RAJ|    IND|\n",
      "+---+------+-----+-------+\n",
      "\n",
      "+---------+---------+-----------+------------+--------------+-------------------+\n",
      "|source_id|unique_id|source_name|source_state|source_country|source_country_name|\n",
      "+---------+---------+-----------+------------+--------------+-------------------+\n",
      "+---------+---------+-----------+------------+--------------+-------------------+\n",
      "\n"
     ]
    }
   ],
   "source": [
    "source=spark.read.format('csv').load(source_table,header=True)\n",
    "source.show()\n",
    "target=spark.read.format('csv').load(target_table,header=True)\n",
    "target.show()\n"
   ]
  },
  {
   "cell_type": "code",
   "execution_count": 6,
   "metadata": {},
   "outputs": [],
   "source": [
    "#direct_dict\n",
    "#target=target.withColumn(\"t_row_id\",f.monotonically_increasing_id())\n",
    "#source=source.withColumn(\"s_row_id\",f.monotonically_increasing_id())"
   ]
  },
  {
   "cell_type": "code",
   "execution_count": 166,
   "metadata": {},
   "outputs": [],
   "source": []
  },
  {
   "cell_type": "code",
   "execution_count": 179,
   "metadata": {},
   "outputs": [
    {
     "name": "stdout",
     "output_type": "stream",
     "text": [
      "FUNCTION\n",
      "JOIN\n",
      "source_country_name\n",
      "CONCATENATE\n",
      "+---------+---------+-----------+------------+--------------+-------------------+--------------------+\n",
      "|source_id|unique_id|source_name|source_state|source_country|source_country_name|source_state_country|\n",
      "+---------+---------+-----------+------------+--------------+-------------------+--------------------+\n",
      "|        1|        0|     Akshay|         MAH|           IND|              INDIA|             MAH-IND|\n",
      "|        2|        1|      Ayush|         RAJ|           IND|              INDIA|             RAJ-IND|\n",
      "+---------+---------+-----------+------------+--------------+-------------------+--------------------+\n",
      "\n"
     ]
    }
   ],
   "source": [
    "target=source\n",
    "for s_col,t_col in direct_dic.items():\n",
    "    target=target.withColumn(t_col,source[s_col])\n",
    "\n",
    "derived=mapping_pd[mapping_pd[\"mapping_type\"]==\"DERIVED\"]\n",
    "\n",
    "for i in range(derived.shape[0]):\n",
    "    sub_mapping=derived.iloc[i][\"sub_mapping\"]\n",
    "    mapping=derived.iloc[i][\"mapping\"]\n",
    "    print(sub_mapping)\n",
    "    if sub_mapping==\"FUNCTION\":\n",
    "        if mapping==\"genuuid\":\n",
    "            target=target.withColumn(derived.iloc[i][\"target_column\"],f.monotonically_increasing_id())\n",
    "    elif sub_mapping==\"CONCATENATE\":\n",
    "        columns=derived.iloc[i][\"mapping\"].split(\":\")[0]\n",
    "        sep=derived.iloc[i][\"mapping\"].split(\":\")[1].split(\",\")[1].strip()\n",
    "        #print(columns.split(\",\"))\n",
    "        target=target.withColumn(derived.iloc[i][\"target_column\"],f.concat_ws(sep,*columns.split(\",\")))\n",
    "        #target.show()\n",
    "    elif sub_mapping==\"JOIN\":\n",
    "        join_data=derived.iloc[i][\"mapping\"]\n",
    "        tables=join_data.split(\"*\")[0].split(\"#\")[1].strip()\n",
    "        lkp_data=spark.read.format('csv').load(tables,inferSchema=True,header=True)\n",
    "        filters=join_data.split(\"*\")[1].split(\"#\")[1].strip()\n",
    "        #print(filters)\n",
    "        lkp_data=lkp_data.where(filters)\n",
    "        #lkp_data.show()\n",
    "        condition=join_data.split(\"*\")[2].split(\"#\")[1].strip()\n",
    "        output_column=join_data.split(\"*\")[3].split(\"#\")[1].strip()\n",
    "        target=target.alias(\"t\").join(broadcast(lkp_data).alias(\"s\"),how=\"left\",on=f.col('t.'+condition.split(\"=\")[0].strip())==f.col('s.'+condition.split(\"=\")[1].strip()))#.select(\"t.*\",output_column)\n",
    "        print(derived.iloc[i][\"target_column\"])\n",
    "        target=target.withColumnRenamed(output_column,derived.iloc[i][\"target_column\"])\n",
    "        #target.show()\n",
    "target.select(*mapping_pd[\"target_column\"].tolist()).show()"
   ]
  },
  {
   "cell_type": "code",
   "execution_count": 146,
   "metadata": {},
   "outputs": [
    {
     "name": "stdout",
     "output_type": "stream",
     "text": [
      "+------------+------------+\n",
      "|country_code|country_name|\n",
      "+------------+------------+\n",
      "|         IND|       INDIA|\n",
      "+------------+------------+\n",
      "\n",
      "+------------+------------+\n",
      "|country_code|country_name|\n",
      "+------------+------------+\n",
      "|         IND|       INDIA|\n",
      "+------------+------------+\n",
      "\n"
     ]
    }
   ],
   "source": [
    "lkp_data.show()\n",
    "\n",
    "lkp_data=lkp_data.filter(filters)\n",
    "lkp_data.show()"
   ]
  },
  {
   "cell_type": "code",
   "execution_count": 122,
   "metadata": {},
   "outputs": [
    {
     "name": "stdout",
     "output_type": "stream",
     "text": [
      "+---+------+-----+-------+--------------+------------+---------+-----------+---------+--------------------+\n",
      "| id|  name|state|country|source_country|source_state|source_id|source_name|unique_id|source_state_country|\n",
      "+---+------+-----+-------+--------------+------------+---------+-----------+---------+--------------------+\n",
      "|  1|Akshay|  MAH|    IND|           IND|         MAH|        1|     Akshay|        0|             MAH-IND|\n",
      "|  2| Ayush|  RAJ|    IND|           IND|         RAJ|        2|      Ayush|        1|             RAJ-IND|\n",
      "+---+------+-----+-------+--------------+------------+---------+-----------+---------+--------------------+\n",
      "\n"
     ]
    }
   ],
   "source": [
    "target.show()"
   ]
  }
 ],
 "metadata": {
  "kernelspec": {
   "display_name": "Python 2",
   "language": "python",
   "name": "python2"
  },
  "language_info": {
   "codemirror_mode": {
    "name": "ipython",
    "version": 2
   },
   "file_extension": ".py",
   "mimetype": "text/x-python",
   "name": "python",
   "nbconvert_exporter": "python",
   "pygments_lexer": "ipython2",
   "version": "2.7.14"
  }
 },
 "nbformat": 4,
 "nbformat_minor": 2
}
